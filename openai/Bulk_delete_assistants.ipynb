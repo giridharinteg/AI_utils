{
  "nbformat": 4,
  "nbformat_minor": 0,
  "metadata": {
    "colab": {
      "provenance": [],
      "authorship_tag": "ABX9TyOx8Eux5LMunitTH64Cq/cM",
      "include_colab_link": true
    },
    "kernelspec": {
      "name": "python3",
      "display_name": "Python 3"
    },
    "language_info": {
      "name": "python"
    }
  },
  "cells": [
    {
      "cell_type": "markdown",
      "metadata": {
        "id": "view-in-github",
        "colab_type": "text"
      },
      "source": [
        "<a href=\"https://colab.research.google.com/github/giridharinteg/AI_utils/blob/feature_bulk_delete/Bulk_delete_assistants.ipynb\" target=\"_parent\"><img src=\"https://colab.research.google.com/assets/colab-badge.svg\" alt=\"Open In Colab\"/></a>"
      ]
    },
    {
      "cell_type": "code",
      "source": [
        "!pip install openai"
      ],
      "metadata": {
        "id": "IR3yYAhotfQK"
      },
      "execution_count": null,
      "outputs": []
    },
    {
      "cell_type": "code",
      "source": [
        "from openai import OpenAI\n",
        "import os\n",
        "import pprint\n",
        "from tqdm import tqdm\n",
        "\n",
        "# Set your API key as an environment variable or directly in the script\n",
        "API_KEY = input(\"Enter your OPEN AI API KEY HERE - \")\n",
        "client = OpenAI(api_key = API_KEY)\n",
        "response = client.beta.assistants.list(limit=20, order = 'desc')\n",
        "\n",
        "def delete_assistant(assistant_id):\n",
        "    response = client.beta.assistants.delete(assistant_id)\n",
        "    return response\n",
        "\n",
        "all_my_assistants = {}\n",
        "to_delete_assistant_id = []\n",
        "\n",
        "for assistant in response:\n",
        "    #print(str(assistant.name) + \" - \" + str(assistant.id) + \" - \" + str(assistant.created_at))\n",
        "    if assistant.name in all_my_assistants.keys():\n",
        "        all_my_assistants[assistant.name][\"duplicate_count\"] = all_my_assistants[assistant.name][\"duplicate_count\"] + 1\n",
        "        if assistant.created_at > all_my_assistants[assistant.name][\"timestamp\"]:\n",
        "            to_delete_assistant_id.append(all_my_assistants[assistant.name][\"id\"])\n",
        "            all_my_assistants[assistant.name][\"id\"] = assistant.id\n",
        "            all_my_assistants[assistant.name][\"timestamp\"] = assistant.created_at\n",
        "            all_my_assistants[assistant.name][\"recent\"] = True\n",
        "            #print(\"REMOVAL OLD -  \"+ str(assistant.created_at) + \" > \" + str(all_my_assistants[assistant.name][\"timestamp\"]))\n",
        "        else:\n",
        "            to_delete_assistant_id.append(assistant.id)\n",
        "            #print(\"REMOVAL NEW -  \"+ str(assistant.created_at) + \" < \" + str(all_my_assistants[assistant.name][\"timestamp\"]))\n",
        "    else:\n",
        "        all_my_assistants[assistant.name] = {}\n",
        "        all_my_assistants[assistant.name][\"id\"] = assistant.id\n",
        "        all_my_assistants[assistant.name][\"timestamp\"] = assistant.created_at\n",
        "        all_my_assistants[assistant.name][\"recent\"] = True\n",
        "        all_my_assistants[assistant.name][\"duplicate_count\"] = 0\n",
        "        #print(\"ADDED\")\n",
        "\n",
        "print(\"Assistants Retained : \")\n",
        "pprint.pprint(all_my_assistants)\n",
        "\n",
        "print(\"Total Duplicate Assistants to be Deleted : \"+str(len(to_delete_assistant_id)))\n",
        "\n",
        "for assistant in tqdm(to_delete_assistant_id):\n",
        "    resp = delete_assistant(assistant)\n",
        "    if resp.deleted == True:\n",
        "        pass\n",
        "    else:\n",
        "        print(\"Error happened but you can retry running without any issues. Assistant ID Below\")\n",
        "        print(resp.id)\n",
        "\n",
        "print(\"All assistants have been deleted.\")"
      ],
      "metadata": {
        "id": "O1Coye_FuMpr"
      },
      "execution_count": null,
      "outputs": []
    },
    {
      "cell_type": "code",
      "source": [
        "resp#deleted=True"
      ],
      "metadata": {
        "id": "b4WF96uaqkNM"
      },
      "execution_count": null,
      "outputs": []
    },
    {
      "cell_type": "code",
      "source": [
        "to_delete_assistant_id"
      ],
      "metadata": {
        "id": "FhhHKk0Zmvmr"
      },
      "execution_count": null,
      "outputs": []
    }
  ]
}
